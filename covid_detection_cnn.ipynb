{
  "nbformat": 4,
  "nbformat_minor": 0,
  "metadata": {
    "colab": {
      "name": "covid_detection_cnn.ipynb",
      "provenance": [],
      "collapsed_sections": [],
      "authorship_tag": "ABX9TyPLZ9750DQWJsjESXhJb6M2",
      "include_colab_link": true
    },
    "kernelspec": {
      "name": "python3",
      "display_name": "Python 3"
    }
  },
  "cells": [
    {
      "cell_type": "markdown",
      "metadata": {
        "id": "view-in-github",
        "colab_type": "text"
      },
      "source": [
        "<a href=\"https://colab.research.google.com/github/iqbalhanif/NN-with-Keras/blob/master/covid_detection_cnn.ipynb\" target=\"_parent\"><img src=\"https://colab.research.google.com/assets/colab-badge.svg\" alt=\"Open In Colab\"/></a>"
      ]
    },
    {
      "cell_type": "code",
      "metadata": {
        "id": "vLr71bhz9Etv",
        "colab_type": "code",
        "colab": {
          "base_uri": "https://localhost:8080/",
          "height": 66
        },
        "outputId": "75ab7886-c048-4a0e-8b5b-5651aaff964a"
      },
      "source": [
        "#Koneksi ke Google Drive\n",
        "from google.colab import drive\n",
        "drive.mount('/content/drive')\n",
        "\n",
        "#ekstraksi Dataset\n",
        "!unzip \"/content/drive/My Drive/Health/covid-dataset/covid.zip\" -d \"/content/drive/My Drive/Health/covid-dataset/covid19/\"\n"
      ],
      "execution_count": 1,
      "outputs": [
        {
          "output_type": "stream",
          "text": [
            "Mounted at /content/drive\n",
            "Archive:  /content/drive/My Drive/Health/covid-dataset/covid.zip\n",
            "replace /content/drive/My Drive/Health/covid-dataset/covid19/covid/000001-12.jpg? [y]es, [n]o, [A]ll, [N]one, [r]ename: N\n"
          ],
          "name": "stdout"
        }
      ]
    },
    {
      "cell_type": "code",
      "metadata": {
        "id": "RU4H2S57iM48",
        "colab_type": "code",
        "colab": {
          "base_uri": "https://localhost:8080/",
          "height": 50
        },
        "outputId": "87e17fee-8ea5-46be-f97e-39e08dd3fcb0"
      },
      "source": [
        "#ekstraksi Dataset\n",
        "!unzip \"/content/drive/My Drive/Health/covid-dataset/normal.zip\" -d \"/content/drive/My Drive/Health/covid-dataset/normal/\""
      ],
      "execution_count": null,
      "outputs": [
        {
          "output_type": "stream",
          "text": [
            "Archive:  /content/drive/My Drive/Health/covid-dataset/normal.zip\n",
            "replace /content/drive/My Drive/Health/covid-dataset/normal/normal/IM-0001-0001.jpeg? [y]es, [n]o, [A]ll, [N]one, [r]ename: N\n"
          ],
          "name": "stdout"
        }
      ]
    },
    {
      "cell_type": "code",
      "metadata": {
        "id": "5Eq2KYgWUFl_",
        "colab_type": "code",
        "colab": {
          "base_uri": "https://localhost:8080/",
          "height": 116
        },
        "outputId": "147093c9-6768-49d6-eb40-84d4795c1cd5"
      },
      "source": [
        "import os, re, glob, cv2, numpy as np\n",
        "from google.colab.patches import cv2_imshow\n",
        "\n",
        "im = cv2.imread('/content/drive/My Drive/Health/covid-dataset/normal/normal/IM-0766-0001.jpeg')\n",
        "im = cv2.resize(im,(100,100))\n",
        "cv2_imshow(im)"
      ],
      "execution_count": null,
      "outputs": [
        {
          "output_type": "display_data",
          "data": {
            "image/png": "[encoded data removed]",
            "text/plain": [
              "<PIL.Image.Image image mode=RGB size=100x100 at 0x7FAE13347E48>"
            ]
          },
          "metadata": {
            "tags": []
          }
        }
      ]
    },
    {
      "cell_type": "code",
      "metadata": {
        "id": "dt0z4zOVJcto",
        "colab_type": "code",
        "colab": {
          "base_uri": "https://localhost:8080/",
          "height": 116
        },
        "outputId": "1fdb3fec-ffa9-46e5-f9a5-9f395b11322c"
      },
      "source": [
        "im = cv2.imread('/content/drive/My Drive/Health/covid-dataset/covid19/covid/yxppt-2020-02-19_00-51-27_287214-day12.jpg')\n",
        "im = cv2.resize(im,(100,100))\n",
        "cv2_imshow(im)"
      ],
      "execution_count": null,
      "outputs": [
        {
          "output_type": "display_data",
          "data": {
            "image/png": "[encoded data removed]",
            "text/plain": [
              "<PIL.Image.Image image mode=RGB size=100x100 at 0x7FADC32CF6A0>"
            ]
          },
          "metadata": {
            "tags": []
          }
        }
      ]
    },
    {
      "cell_type": "code",
      "metadata": {
        "id": "OfA9K6gliXbw",
        "colab_type": "code",
        "colab": {
          "base_uri": "https://localhost:8080/",
          "height": 33
        },
        "outputId": "60c35de5-2afa-4b97-a109-36af0a049f18"
      },
      "source": [
        "import os, re, glob, cv2, numpy as np\n",
        "\n",
        "dirs = os.listdir('/content/drive/My Drive/Health/covid-dataset/covid19/')\n",
        "label = 1\n",
        "im_arr = []\n",
        "lb_arr = []\n",
        "X = []\n",
        "y = []\n",
        "for i in dirs: #loop all directory\n",
        "    count = 0\n",
        "    for pic in glob.glob('/content/drive/My Drive/Health/covid-dataset/covid19/'+i+'/*'):\n",
        "        im = cv2.imread(pic)\n",
        "        im = cv2.resize(im,(70,70))\n",
        "        im = np.array(im)\n",
        "        count = count + 1\n",
        "        X.append(im)\n",
        "        y.append(label)\n",
        "        if(count <= 10):\n",
        "            im_arr.append({str(i):im})\n",
        "    print(\"Jumlah \"+str(i)+\" : \"+str(count))\n",
        "    label = label + 1\n",
        "    lb_arr.append(i)\n",
        "X_covid = np.array(X)\n",
        "y_covid = np.array(y);"
      ],
      "execution_count": null,
      "outputs": [
        {
          "output_type": "stream",
          "text": [
            "Jumlah covid : 660\n"
          ],
          "name": "stdout"
        }
      ]
    },
    {
      "cell_type": "code",
      "metadata": {
        "id": "6v-fGUwYl3Ze",
        "colab_type": "code",
        "colab": {
          "base_uri": "https://localhost:8080/",
          "height": 516
        },
        "outputId": "1337a89b-8a83-46d4-f448-940382fb215e"
      },
      "source": [
        "y_covid"
      ],
      "execution_count": null,
      "outputs": [
        {
          "output_type": "execute_result",
          "data": {
            "text/plain": [
              "array([1, 1, 1, 1, 1, 1, 1, 1, 1, 1, 1, 1, 1, 1, 1, 1, 1, 1, 1, 1, 1, 1,\n",
              "       1, 1, 1, 1, 1, 1, 1, 1, 1, 1, 1, 1, 1, 1, 1, 1, 1, 1, 1, 1, 1, 1,\n",
              "       1, 1, 1, 1, 1, 1, 1, 1, 1, 1, 1, 1, 1, 1, 1, 1, 1, 1, 1, 1, 1, 1,\n",
              "       1, 1, 1, 1, 1, 1, 1, 1, 1, 1, 1, 1, 1, 1, 1, 1, 1, 1, 1, 1, 1, 1,\n",
              "       1, 1, 1, 1, 1, 1, 1, 1, 1, 1, 1, 1, 1, 1, 1, 1, 1, 1, 1, 1, 1, 1,\n",
              "       1, 1, 1, 1, 1, 1, 1, 1, 1, 1, 1, 1, 1, 1, 1, 1, 1, 1, 1, 1, 1, 1,\n",
              "       1, 1, 1, 1, 1, 1, 1, 1, 1, 1, 1, 1, 1, 1, 1, 1, 1, 1, 1, 1, 1, 1,\n",
              "       1, 1, 1, 1, 1, 1, 1, 1, 1, 1, 1, 1, 1, 1, 1, 1, 1, 1, 1, 1, 1, 1,\n",
              "       1, 1, 1, 1, 1, 1, 1, 1, 1, 1, 1, 1, 1, 1, 1, 1, 1, 1, 1, 1, 1, 1,\n",
              "       1, 1, 1, 1, 1, 1, 1, 1, 1, 1, 1, 1, 1, 1, 1, 1, 1, 1, 1, 1, 1, 1,\n",
              "       1, 1, 1, 1, 1, 1, 1, 1, 1, 1, 1, 1, 1, 1, 1, 1, 1, 1, 1, 1, 1, 1,\n",
              "       1, 1, 1, 1, 1, 1, 1, 1, 1, 1, 1, 1, 1, 1, 1, 1, 1, 1, 1, 1, 1, 1,\n",
              "       1, 1, 1, 1, 1, 1, 1, 1, 1, 1, 1, 1, 1, 1, 1, 1, 1, 1, 1, 1, 1, 1,\n",
              "       1, 1, 1, 1, 1, 1, 1, 1, 1, 1, 1, 1, 1, 1, 1, 1, 1, 1, 1, 1, 1, 1,\n",
              "       1, 1, 1, 1, 1, 1, 1, 1, 1, 1, 1, 1, 1, 1, 1, 1, 1, 1, 1, 1, 1, 1,\n",
              "       1, 1, 1, 1, 1, 1, 1, 1, 1, 1, 1, 1, 1, 1, 1, 1, 1, 1, 1, 1, 1, 1,\n",
              "       1, 1, 1, 1, 1, 1, 1, 1, 1, 1, 1, 1, 1, 1, 1, 1, 1, 1, 1, 1, 1, 1,\n",
              "       1, 1, 1, 1, 1, 1, 1, 1, 1, 1, 1, 1, 1, 1, 1, 1, 1, 1, 1, 1, 1, 1,\n",
              "       1, 1, 1, 1, 1, 1, 1, 1, 1, 1, 1, 1, 1, 1, 1, 1, 1, 1, 1, 1, 1, 1,\n",
              "       1, 1, 1, 1, 1, 1, 1, 1, 1, 1, 1, 1, 1, 1, 1, 1, 1, 1, 1, 1, 1, 1,\n",
              "       1, 1, 1, 1, 1, 1, 1, 1, 1, 1, 1, 1, 1, 1, 1, 1, 1, 1, 1, 1, 1, 1,\n",
              "       1, 1, 1, 1, 1, 1, 1, 1, 1, 1, 1, 1, 1, 1, 1, 1, 1, 1, 1, 1, 1, 1,\n",
              "       1, 1, 1, 1, 1, 1, 1, 1, 1, 1, 1, 1, 1, 1, 1, 1, 1, 1, 1, 1, 1, 1,\n",
              "       1, 1, 1, 1, 1, 1, 1, 1, 1, 1, 1, 1, 1, 1, 1, 1, 1, 1, 1, 1, 1, 1,\n",
              "       1, 1, 1, 1, 1, 1, 1, 1, 1, 1, 1, 1, 1, 1, 1, 1, 1, 1, 1, 1, 1, 1,\n",
              "       1, 1, 1, 1, 1, 1, 1, 1, 1, 1, 1, 1, 1, 1, 1, 1, 1, 1, 1, 1, 1, 1,\n",
              "       1, 1, 1, 1, 1, 1, 1, 1, 1, 1, 1, 1, 1, 1, 1, 1, 1, 1, 1, 1, 1, 1,\n",
              "       1, 1, 1, 1, 1, 1, 1, 1, 1, 1, 1, 1, 1, 1, 1, 1, 1, 1, 1, 1, 1, 1,\n",
              "       1, 1, 1, 1, 1, 1, 1, 1, 1, 1, 1, 1, 1, 1, 1, 1, 1, 1, 1, 1, 1, 1,\n",
              "       1, 1, 1, 1, 1, 1, 1, 1, 1, 1, 1, 1, 1, 1, 1, 1, 1, 1, 1, 1, 1, 1])"
            ]
          },
          "metadata": {
            "tags": []
          },
          "execution_count": 10
        }
      ]
    },
    {
      "cell_type": "code",
      "metadata": {
        "id": "PCpkzwUNmv81",
        "colab_type": "code",
        "colab": {
          "base_uri": "https://localhost:8080/",
          "height": 33
        },
        "outputId": "b018b416-fde3-46bc-baa6-ff02cc0cd259"
      },
      "source": [
        "dirs = os.listdir('/content/drive/My Drive/Health/covid-dataset/normal/')\n",
        "label = 0\n",
        "im_arr = []\n",
        "lb_arr = []\n",
        "X = []\n",
        "y = []\n",
        "for i in dirs: #loop all directory\n",
        "    count = 0\n",
        "    for pic in glob.glob('/content/drive/My Drive/Health/covid-dataset/normal/'+i+'/*'):\n",
        "        im = cv2.imread(pic)\n",
        "        im = cv2.resize(im,(70,70))\n",
        "        im = np.array(im)\n",
        "        count = count + 1\n",
        "        X.append(im)\n",
        "        y.append(label)\n",
        "        if(count <= 10):\n",
        "            im_arr.append({str(i):im})\n",
        "    print(\"Jumlah \"+str(i)+\" : \"+str(count))\n",
        "    label = label + 1\n",
        "    lb_arr.append(i)\n",
        "X_normal = np.array(X)\n",
        "y_normal = np.array(y);"
      ],
      "execution_count": null,
      "outputs": [
        {
          "output_type": "stream",
          "text": [
            "Jumlah normal : 666\n"
          ],
          "name": "stdout"
        }
      ]
    },
    {
      "cell_type": "code",
      "metadata": {
        "id": "S41Y-6Q3m86U",
        "colab_type": "code",
        "colab": {
          "base_uri": "https://localhost:8080/",
          "height": 533
        },
        "outputId": "b33a7258-7627-4008-8ac6-64c9c9cbe2c3"
      },
      "source": [
        "y_normal"
      ],
      "execution_count": null,
      "outputs": [
        {
          "output_type": "execute_result",
          "data": {
            "text/plain": [
              "array([0, 0, 0, 0, 0, 0, 0, 0, 0, 0, 0, 0, 0, 0, 0, 0, 0, 0, 0, 0, 0, 0,\n",
              "       0, 0, 0, 0, 0, 0, 0, 0, 0, 0, 0, 0, 0, 0, 0, 0, 0, 0, 0, 0, 0, 0,\n",
              "       0, 0, 0, 0, 0, 0, 0, 0, 0, 0, 0, 0, 0, 0, 0, 0, 0, 0, 0, 0, 0, 0,\n",
              "       0, 0, 0, 0, 0, 0, 0, 0, 0, 0, 0, 0, 0, 0, 0, 0, 0, 0, 0, 0, 0, 0,\n",
              "       0, 0, 0, 0, 0, 0, 0, 0, 0, 0, 0, 0, 0, 0, 0, 0, 0, 0, 0, 0, 0, 0,\n",
              "       0, 0, 0, 0, 0, 0, 0, 0, 0, 0, 0, 0, 0, 0, 0, 0, 0, 0, 0, 0, 0, 0,\n",
              "       0, 0, 0, 0, 0, 0, 0, 0, 0, 0, 0, 0, 0, 0, 0, 0, 0, 0, 0, 0, 0, 0,\n",
              "       0, 0, 0, 0, 0, 0, 0, 0, 0, 0, 0, 0, 0, 0, 0, 0, 0, 0, 0, 0, 0, 0,\n",
              "       0, 0, 0, 0, 0, 0, 0, 0, 0, 0, 0, 0, 0, 0, 0, 0, 0, 0, 0, 0, 0, 0,\n",
              "       0, 0, 0, 0, 0, 0, 0, 0, 0, 0, 0, 0, 0, 0, 0, 0, 0, 0, 0, 0, 0, 0,\n",
              "       0, 0, 0, 0, 0, 0, 0, 0, 0, 0, 0, 0, 0, 0, 0, 0, 0, 0, 0, 0, 0, 0,\n",
              "       0, 0, 0, 0, 0, 0, 0, 0, 0, 0, 0, 0, 0, 0, 0, 0, 0, 0, 0, 0, 0, 0,\n",
              "       0, 0, 0, 0, 0, 0, 0, 0, 0, 0, 0, 0, 0, 0, 0, 0, 0, 0, 0, 0, 0, 0,\n",
              "       0, 0, 0, 0, 0, 0, 0, 0, 0, 0, 0, 0, 0, 0, 0, 0, 0, 0, 0, 0, 0, 0,\n",
              "       0, 0, 0, 0, 0, 0, 0, 0, 0, 0, 0, 0, 0, 0, 0, 0, 0, 0, 0, 0, 0, 0,\n",
              "       0, 0, 0, 0, 0, 0, 0, 0, 0, 0, 0, 0, 0, 0, 0, 0, 0, 0, 0, 0, 0, 0,\n",
              "       0, 0, 0, 0, 0, 0, 0, 0, 0, 0, 0, 0, 0, 0, 0, 0, 0, 0, 0, 0, 0, 0,\n",
              "       0, 0, 0, 0, 0, 0, 0, 0, 0, 0, 0, 0, 0, 0, 0, 0, 0, 0, 0, 0, 0, 0,\n",
              "       0, 0, 0, 0, 0, 0, 0, 0, 0, 0, 0, 0, 0, 0, 0, 0, 0, 0, 0, 0, 0, 0,\n",
              "       0, 0, 0, 0, 0, 0, 0, 0, 0, 0, 0, 0, 0, 0, 0, 0, 0, 0, 0, 0, 0, 0,\n",
              "       0, 0, 0, 0, 0, 0, 0, 0, 0, 0, 0, 0, 0, 0, 0, 0, 0, 0, 0, 0, 0, 0,\n",
              "       0, 0, 0, 0, 0, 0, 0, 0, 0, 0, 0, 0, 0, 0, 0, 0, 0, 0, 0, 0, 0, 0,\n",
              "       0, 0, 0, 0, 0, 0, 0, 0, 0, 0, 0, 0, 0, 0, 0, 0, 0, 0, 0, 0, 0, 0,\n",
              "       0, 0, 0, 0, 0, 0, 0, 0, 0, 0, 0, 0, 0, 0, 0, 0, 0, 0, 0, 0, 0, 0,\n",
              "       0, 0, 0, 0, 0, 0, 0, 0, 0, 0, 0, 0, 0, 0, 0, 0, 0, 0, 0, 0, 0, 0,\n",
              "       0, 0, 0, 0, 0, 0, 0, 0, 0, 0, 0, 0, 0, 0, 0, 0, 0, 0, 0, 0, 0, 0,\n",
              "       0, 0, 0, 0, 0, 0, 0, 0, 0, 0, 0, 0, 0, 0, 0, 0, 0, 0, 0, 0, 0, 0,\n",
              "       0, 0, 0, 0, 0, 0, 0, 0, 0, 0, 0, 0, 0, 0, 0, 0, 0, 0, 0, 0, 0, 0,\n",
              "       0, 0, 0, 0, 0, 0, 0, 0, 0, 0, 0, 0, 0, 0, 0, 0, 0, 0, 0, 0, 0, 0,\n",
              "       0, 0, 0, 0, 0, 0, 0, 0, 0, 0, 0, 0, 0, 0, 0, 0, 0, 0, 0, 0, 0, 0,\n",
              "       0, 0, 0, 0, 0, 0])"
            ]
          },
          "metadata": {
            "tags": []
          },
          "execution_count": 12
        }
      ]
    },
    {
      "cell_type": "code",
      "metadata": {
        "id": "0Pg0TL_S9LV1",
        "colab_type": "code",
        "colab": {}
      },
      "source": [
        "y1 = np.concatenate((y_covid, y_normal), axis=0)\n",
        "y2 = np.concatenate((y_normal, y_covid), axis=0)\n",
        "y = np.vstack((y1,y2)).transpose()\n",
        "X = np.concatenate((X_covid, X_normal), axis=0)"
      ],
      "execution_count": null,
      "outputs": []
    },
    {
      "cell_type": "code",
      "metadata": {
        "id": "k7JD48CIDMBU",
        "colab_type": "code",
        "colab": {
          "base_uri": "https://localhost:8080/",
          "height": 1000
        },
        "outputId": "9ddc031d-ed5a-4ce3-e9a9-11e9b0f27b9b"
      },
      "source": [
        "X[10:]"
      ],
      "execution_count": null,
      "outputs": [
        {
          "output_type": "execute_result",
          "data": {
            "text/plain": [
              "array([[[[ 61,  61,  61],\n",
              "         [ 53,  53,  53],\n",
              "         [ 53,  53,  53],\n",
              "         ...,\n",
              "         [  3,   3,   3],\n",
              "         [  5,   5,   5],\n",
              "         [  6,   6,   6]],\n",
              "\n",
              "        [[  1,   1,   1],\n",
              "         [  1,   1,   1],\n",
              "         [  1,   1,   1],\n",
              "         ...,\n",
              "         [  1,   1,   1],\n",
              "         [  1,   1,   1],\n",
              "         [  1,   1,   1]],\n",
              "\n",
              "        [[  1,   1,   1],\n",
              "         [  1,   1,   1],\n",
              "         [  1,   1,   1],\n",
              "         ...,\n",
              "         [  2,   2,   2],\n",
              "         [  1,   1,   1],\n",
              "         [  1,   1,   1]],\n",
              "\n",
              "        ...,\n",
              "\n",
              "        [[  1,   1,   1],\n",
              "         [  1,   1,   1],\n",
              "         [  1,   1,   1],\n",
              "         ...,\n",
              "         [ 74,  74,  74],\n",
              "         [ 42,  42,  42],\n",
              "         [  7,   7,   7]],\n",
              "\n",
              "        [[  1,   1,   1],\n",
              "         [  1,   1,   1],\n",
              "         [  1,   1,   1],\n",
              "         ...,\n",
              "         [ 68,  68,  68],\n",
              "         [ 39,  39,  39],\n",
              "         [  9,   9,   9]],\n",
              "\n",
              "        [[  1,   1,   1],\n",
              "         [  1,   1,   1],\n",
              "         [  1,   1,   1],\n",
              "         ...,\n",
              "         [ 57,  57,  57],\n",
              "         [ 34,  34,  34],\n",
              "         [ 13,  13,  13]]],\n",
              "\n",
              "\n",
              "       [[[  6,   6,   6],\n",
              "         [  8,   8,   8],\n",
              "         [  8,   8,   8],\n",
              "         ...,\n",
              "         [ 86,  86,  86],\n",
              "         [ 76,  76,  76],\n",
              "         [ 68,  68,  68]],\n",
              "\n",
              "        [[  7,   7,   7],\n",
              "         [  7,   7,   7],\n",
              "         [  7,   7,   7],\n",
              "         ...,\n",
              "         [106, 106, 106],\n",
              "         [102, 102, 102],\n",
              "         [121, 121, 121]],\n",
              "\n",
              "        [[  7,   7,   7],\n",
              "         [  7,   7,   7],\n",
              "         [  7,   7,   7],\n",
              "         ...,\n",
              "         [140, 140, 140],\n",
              "         [168, 168, 168],\n",
              "         [138, 138, 138]],\n",
              "\n",
              "        ...,\n",
              "\n",
              "        [[ 11,  11,  11],\n",
              "         [ 11,  11,  11],\n",
              "         [ 11,  11,  11],\n",
              "         ...,\n",
              "         [  9,   9,   9],\n",
              "         [ 10,  10,  10],\n",
              "         [ 12,  12,  12]],\n",
              "\n",
              "        [[ 11,  11,  11],\n",
              "         [ 11,  11,  11],\n",
              "         [ 11,  11,  11],\n",
              "         ...,\n",
              "         [ 11,  11,  11],\n",
              "         [ 11,  11,  11],\n",
              "         [ 12,  12,  12]],\n",
              "\n",
              "        [[ 11,  11,  11],\n",
              "         [ 11,  11,  11],\n",
              "         [ 11,  11,  11],\n",
              "         ...,\n",
              "         [  9,   9,   9],\n",
              "         [ 11,  11,  11],\n",
              "         [ 11,  11,  11]]],\n",
              "\n",
              "\n",
              "       [[[  0,   0,   0],\n",
              "         [  0,   0,   0],\n",
              "         [  0,   0,   0],\n",
              "         ...,\n",
              "         [ 84,  75,  59],\n",
              "         [  3,   3,   2],\n",
              "         [  0,   0,   0]],\n",
              "\n",
              "        [[  0,   0,   0],\n",
              "         [  0,   0,   0],\n",
              "         [  1,   1,   1],\n",
              "         ...,\n",
              "         [  1,   1,   1],\n",
              "         [  0,   0,   0],\n",
              "         [  0,   0,   0]],\n",
              "\n",
              "        [[  0,   0,   0],\n",
              "         [  5,   5,   4],\n",
              "         [ 21,  19,  15],\n",
              "         ...,\n",
              "         [ 41,  36,  28],\n",
              "         [  8,   7,   7],\n",
              "         [  3,   2,   2]],\n",
              "\n",
              "        ...,\n",
              "\n",
              "        [[110,  98,  77],\n",
              "         [115, 101,  80],\n",
              "         [126, 111,  88],\n",
              "         ...,\n",
              "         [147, 130, 103],\n",
              "         [144, 128, 101],\n",
              "         [151, 134, 106]],\n",
              "\n",
              "        [[117, 104,  82],\n",
              "         [ 80,  71,  55],\n",
              "         [159, 141, 111],\n",
              "         ...,\n",
              "         [146, 129, 102],\n",
              "         [145, 128, 102],\n",
              "         [149, 132, 104]],\n",
              "\n",
              "        [[116, 103,  82],\n",
              "         [118, 104,  83],\n",
              "         [115, 101,  80],\n",
              "         ...,\n",
              "         [131, 116,  92],\n",
              "         [128, 113,  90],\n",
              "         [124, 110,  87]]],\n",
              "\n",
              "\n",
              "       ...,\n",
              "\n",
              "\n",
              "       [[[ 58,  58,  58],\n",
              "         [ 48,  48,  48],\n",
              "         [114, 114, 114],\n",
              "         ...,\n",
              "         [ 16,  16,  16],\n",
              "         [ 65,  65,  65],\n",
              "         [186, 186, 186]],\n",
              "\n",
              "        [[ 47,  47,  47],\n",
              "         [ 47,  47,  47],\n",
              "         [ 52,  52,  52],\n",
              "         ...,\n",
              "         [ 14,  14,  14],\n",
              "         [ 60,  60,  60],\n",
              "         [176, 176, 176]],\n",
              "\n",
              "        [[ 44,  44,  44],\n",
              "         [ 42,  42,  42],\n",
              "         [ 57,  57,  57],\n",
              "         ...,\n",
              "         [ 13,  13,  13],\n",
              "         [ 54,  54,  54],\n",
              "         [175, 175, 175]],\n",
              "\n",
              "        ...,\n",
              "\n",
              "        [[  0,   0,   0],\n",
              "         [  0,   0,   0],\n",
              "         [  0,   0,   0],\n",
              "         ...,\n",
              "         [185, 185, 185],\n",
              "         [ 38,  38,  38],\n",
              "         [ 70,  70,  70]],\n",
              "\n",
              "        [[  0,   0,   0],\n",
              "         [  0,   0,   0],\n",
              "         [  0,   0,   0],\n",
              "         ...,\n",
              "         [182, 182, 182],\n",
              "         [102, 102, 102],\n",
              "         [ 63,  63,  63]],\n",
              "\n",
              "        [[  0,   0,   0],\n",
              "         [  0,   0,   0],\n",
              "         [  0,   0,   0],\n",
              "         ...,\n",
              "         [162, 162, 162],\n",
              "         [121, 121, 121],\n",
              "         [ 72,  72,  72]]],\n",
              "\n",
              "\n",
              "       [[[ 61,  61,  61],\n",
              "         [109, 109, 109],\n",
              "         [ 97,  97,  97],\n",
              "         ...,\n",
              "         [116, 116, 116],\n",
              "         [ 80,  80,  80],\n",
              "         [195, 195, 195]],\n",
              "\n",
              "        [[ 98,  98,  98],\n",
              "         [ 98,  98,  98],\n",
              "         [105, 105, 105],\n",
              "         ...,\n",
              "         [ 97,  97,  97],\n",
              "         [ 72,  72,  72],\n",
              "         [170, 170, 170]],\n",
              "\n",
              "        [[ 83,  83,  83],\n",
              "         [101, 101, 101],\n",
              "         [108, 108, 108],\n",
              "         ...,\n",
              "         [ 84,  84,  84],\n",
              "         [ 76,  76,  76],\n",
              "         [163, 163, 163]],\n",
              "\n",
              "        ...,\n",
              "\n",
              "        [[  0,   0,   0],\n",
              "         [  0,   0,   0],\n",
              "         [  0,   0,   0],\n",
              "         ...,\n",
              "         [160, 160, 160],\n",
              "         [104, 104, 104],\n",
              "         [ 96,  96,  96]],\n",
              "\n",
              "        [[  0,   0,   0],\n",
              "         [  0,   0,   0],\n",
              "         [  0,   0,   0],\n",
              "         ...,\n",
              "         [162, 162, 162],\n",
              "         [101, 101, 101],\n",
              "         [ 88,  88,  88]],\n",
              "\n",
              "        [[  0,   0,   0],\n",
              "         [  0,   0,   0],\n",
              "         [  1,   1,   1],\n",
              "         ...,\n",
              "         [116, 116, 116],\n",
              "         [123, 123, 123],\n",
              "         [ 82,  82,  82]]],\n",
              "\n",
              "\n",
              "       [[[160, 160, 160],\n",
              "         [168, 168, 168],\n",
              "         [139, 139, 139],\n",
              "         ...,\n",
              "         [  0,   0,   0],\n",
              "         [  2,   2,   2],\n",
              "         [  9,   9,   9]],\n",
              "\n",
              "        [[ 95,  95,  95],\n",
              "         [105, 105, 105],\n",
              "         [109, 109, 109],\n",
              "         ...,\n",
              "         [  0,   0,   0],\n",
              "         [  5,   5,   5],\n",
              "         [ 39,  39,  39]],\n",
              "\n",
              "        [[ 91,  91,  91],\n",
              "         [100, 100, 100],\n",
              "         [111, 111, 111],\n",
              "         ...,\n",
              "         [  0,   0,   0],\n",
              "         [  5,   5,   5],\n",
              "         [ 50,  50,  50]],\n",
              "\n",
              "        ...,\n",
              "\n",
              "        [[  0,   0,   0],\n",
              "         [  0,   0,   0],\n",
              "         [  0,   0,   0],\n",
              "         ...,\n",
              "         [  7,   7,   7],\n",
              "         [  0,   0,   0],\n",
              "         [  0,   0,   0]],\n",
              "\n",
              "        [[  0,   0,   0],\n",
              "         [  0,   0,   0],\n",
              "         [  0,   0,   0],\n",
              "         ...,\n",
              "         [ 12,  12,  12],\n",
              "         [  0,   0,   0],\n",
              "         [  0,   0,   0]],\n",
              "\n",
              "        [[  0,   0,   0],\n",
              "         [  0,   0,   0],\n",
              "         [  0,   0,   0],\n",
              "         ...,\n",
              "         [  7,   7,   7],\n",
              "         [  0,   0,   0],\n",
              "         [  0,   0,   0]]]], dtype=uint8)"
            ]
          },
          "metadata": {
            "tags": []
          },
          "execution_count": 54
        }
      ]
    },
    {
      "cell_type": "code",
      "metadata": {
        "id": "BYSVPX8ADxCO",
        "colab_type": "code",
        "colab": {
          "base_uri": "https://localhost:8080/",
          "height": 133
        },
        "outputId": "98e5fded-6029-4981-fb11-a79c8ffbf53b"
      },
      "source": [
        "y[10:]"
      ],
      "execution_count": null,
      "outputs": [
        {
          "output_type": "execute_result",
          "data": {
            "text/plain": [
              "array([[1, 0],\n",
              "       [1, 0],\n",
              "       [1, 0],\n",
              "       ...,\n",
              "       [0, 1],\n",
              "       [0, 1],\n",
              "       [0, 1]])"
            ]
          },
          "metadata": {
            "tags": []
          },
          "execution_count": 55
        }
      ]
    },
    {
      "cell_type": "code",
      "metadata": {
        "id": "sRWagqUWCPta",
        "colab_type": "code",
        "colab": {}
      },
      "source": [
        "from sklearn.model_selection import train_test_split\n",
        "\n",
        "X_train, X_test, y_train, y_test = train_test_split(X, y, test_size=0.30, random_state=42)"
      ],
      "execution_count": null,
      "outputs": []
    },
    {
      "cell_type": "code",
      "metadata": {
        "id": "01n6dXuunju7",
        "colab_type": "code",
        "colab": {}
      },
      "source": [
        "from keras.models import Sequential\n",
        "from keras.layers import Conv2D, MaxPooling2D, Dropout, Flatten, Dense\n",
        "model = Sequential() #model = sequential \n",
        "model.add(Conv2D(32, kernel_size=(3, 3),activation='relu',input_shape=(70,70,3))) #layer convolutional 2D\n",
        "model.add(MaxPooling2D(pool_size=(2,2))) #max pooling with stride (2,2)\n",
        "model.add(Conv2D(32, (3, 3), activation='relu')) #layer convolutional 2D\n",
        "model.add(MaxPooling2D(pool_size=(2,2))) #max pooling with stride (2,2)\n",
        "model.add(Dropout(0.25)) #delete neuron randomly while training and remain 75%\n",
        "model.add(Flatten()) #make layer flatten\n",
        "model.add(Dense(128, activation='relu')) #fully connected layer\n",
        "model.add(Dropout(0.5)) #delete neuron randomly and remain 50%\n",
        "model.add(Dense(2, activation='softmax')) #softmax works"
      ],
      "execution_count": null,
      "outputs": []
    },
    {
      "cell_type": "code",
      "metadata": {
        "id": "02uDYGTaCeil",
        "colab_type": "code",
        "colab": {
          "base_uri": "https://localhost:8080/",
          "height": 666
        },
        "outputId": "283ac943-1b68-4745-93ac-f0d5f52c8779"
      },
      "source": [
        "from keras.optimizers import SGD\n",
        "epochs = 5\n",
        "lrate = 0.01\n",
        "decay = lrate/epochs\n",
        "sgd = SGD(lr=lrate, momentum=0.9, decay=decay, nesterov=False)\n",
        "model.compile(loss='categorical_crossentropy', optimizer=sgd, metrics=['accuracy'])\n",
        "print(model.summary())\n",
        "model.fit(X_train, y_train, validation_data=(X_test, y_test), epochs=epochs, batch_size=32)\n",
        "scores = model.evaluate(X_test, y_test, verbose=0)\n",
        "print(\"Accuracy: %.2f%%\" % (scores[1]*100))"
      ],
      "execution_count": null,
      "outputs": [
        {
          "output_type": "stream",
          "text": [
            "Model: \"sequential_4\"\n",
            "_________________________________________________________________\n",
            "Layer (type)                 Output Shape              Param #   \n",
            "=================================================================\n",
            "conv2d_7 (Conv2D)            (None, 68, 68, 32)        896       \n",
            "_________________________________________________________________\n",
            "max_pooling2d_7 (MaxPooling2 (None, 34, 34, 32)        0         \n",
            "_________________________________________________________________\n",
            "conv2d_8 (Conv2D)            (None, 32, 32, 32)        9248      \n",
            "_________________________________________________________________\n",
            "max_pooling2d_8 (MaxPooling2 (None, 16, 16, 32)        0         \n",
            "_________________________________________________________________\n",
            "dropout_7 (Dropout)          (None, 16, 16, 32)        0         \n",
            "_________________________________________________________________\n",
            "flatten_4 (Flatten)          (None, 8192)              0         \n",
            "_________________________________________________________________\n",
            "dense_7 (Dense)              (None, 128)               1048704   \n",
            "_________________________________________________________________\n",
            "dropout_8 (Dropout)          (None, 128)               0         \n",
            "_________________________________________________________________\n",
            "dense_8 (Dense)              (None, 2)                 258       \n",
            "=================================================================\n",
            "Total params: 1,059,106\n",
            "Trainable params: 1,059,106\n",
            "Non-trainable params: 0\n",
            "_________________________________________________________________\n",
            "None\n",
            "Train on 928 samples, validate on 398 samples\n",
            "Epoch 1/5\n",
            "928/928 [==============================] - 5s 5ms/step - loss: nan - accuracy: 0.4849 - val_loss: nan - val_accuracy: 0.5226\n",
            "Epoch 2/5\n",
            "928/928 [==============================] - 5s 5ms/step - loss: nan - accuracy: 0.4935 - val_loss: nan - val_accuracy: 0.5226\n",
            "Epoch 3/5\n",
            "928/928 [==============================] - 5s 5ms/step - loss: nan - accuracy: 0.4935 - val_loss: nan - val_accuracy: 0.5226\n",
            "Epoch 4/5\n",
            "928/928 [==============================] - 5s 5ms/step - loss: nan - accuracy: 0.4935 - val_loss: nan - val_accuracy: 0.5226\n",
            "Epoch 5/5\n",
            "928/928 [==============================] - 5s 5ms/step - loss: nan - accuracy: 0.4935 - val_loss: nan - val_accuracy: 0.5226\n",
            "Accuracy: 52.26%\n"
          ],
          "name": "stdout"
        }
      ]
    }
  ]
}