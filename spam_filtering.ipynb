{
  "nbformat": 4,
  "nbformat_minor": 0,
  "metadata": {
    "colab": {
      "name": "spam filtering.ipynb",
      "provenance": [],
      "collapsed_sections": [],
      "authorship_tag": "ABX9TyNRhy5REMXQ88je22HCWHcL",
      "include_colab_link": true
    },
    "kernelspec": {
      "name": "python3",
      "display_name": "Python 3"
    }
  },
  "cells": [
    {
      "cell_type": "markdown",
      "metadata": {
        "id": "view-in-github",
        "colab_type": "text"
      },
      "source": [
        "<a href=\"https://colab.research.google.com/github/iqbalhanif/NN-with-Keras/blob/master/spam_filtering.ipynb\" target=\"_parent\"><img src=\"https://colab.research.google.com/assets/colab-badge.svg\" alt=\"Open In Colab\"/></a>"
      ]
    },
    {
      "cell_type": "code",
      "metadata": {
        "id": "KGOwIWa_WptK",
        "colab_type": "code",
        "colab": {}
      },
      "source": [
        "#import important packages\n",
        "import numpy as np\n",
        "import pandas as pd\n",
        "from keras.layers import Dense, LSTM\n",
        "import matplotlib.pyplot as plt\n",
        "import tensorflow as tf"
      ],
      "execution_count": null,
      "outputs": []
    },
    {
      "cell_type": "code",
      "metadata": {
        "id": "MvxmCLgYWv19",
        "colab_type": "code",
        "colab": {
          "base_uri": "https://localhost:8080/",
          "height": 200
        },
        "outputId": "4add7141-d812-49dd-b90c-21d676342577"
      },
      "source": [
        "#get data\n",
        "!wget https://raw.githubusercontent.com/mohitgupta-omg/Kaggle-SMS-Spam-Collection-Dataset-/master/spam.csv"
      ],
      "execution_count": null,
      "outputs": [
        {
          "output_type": "stream",
          "text": [
            "--2020-09-09 04:20:31--  https://raw.githubusercontent.com/mohitgupta-omg/Kaggle-SMS-Spam-Collection-Dataset-/master/spam.csv\n",
            "Resolving raw.githubusercontent.com (raw.githubusercontent.com)... 151.101.0.133, 151.101.64.133, 151.101.128.133, ...\n",
            "Connecting to raw.githubusercontent.com (raw.githubusercontent.com)|151.101.0.133|:443... connected.\n",
            "HTTP request sent, awaiting response... 200 OK\n",
            "Length: 503663 (492K) [text/plain]\n",
            "Saving to: ‘spam.csv’\n",
            "\n",
            "spam.csv            100%[===================>] 491.86K  --.-KB/s    in 0.04s   \n",
            "\n",
            "2020-09-09 04:20:31 (12.2 MB/s) - ‘spam.csv’ saved [503663/503663]\n",
            "\n"
          ],
          "name": "stdout"
        }
      ]
    },
    {
      "cell_type": "code",
      "metadata": {
        "id": "_49zQAzbWz-f",
        "colab_type": "code",
        "colab": {
          "base_uri": "https://localhost:8080/",
          "height": 197
        },
        "outputId": "a9941c10-c2cc-4700-a96d-36fbdefec823"
      },
      "source": [
        "#convert data to pandas dataframe\n",
        "df = pd.read_csv('spam.csv', encoding = \"ISO-8859-1\")\n",
        "df = df.iloc[:,0:2]\n",
        "df['v1'] = df['v1'].astype('category')\n",
        "df['v3'] = df['v1'].cat.codes\n",
        "df.head(5)"
      ],
      "execution_count": null,
      "outputs": [
        {
          "output_type": "execute_result",
          "data": {
            "text/html": [
              "<div>\n",
              "<style scoped>\n",
              "    .dataframe tbody tr th:only-of-type {\n",
              "        vertical-align: middle;\n",
              "    }\n",
              "\n",
              "    .dataframe tbody tr th {\n",
              "        vertical-align: top;\n",
              "    }\n",
              "\n",
              "    .dataframe thead th {\n",
              "        text-align: right;\n",
              "    }\n",
              "</style>\n",
              "<table border=\"1\" class=\"dataframe\">\n",
              "  <thead>\n",
              "    <tr style=\"text-align: right;\">\n",
              "      <th></th>\n",
              "      <th>v1</th>\n",
              "      <th>v2</th>\n",
              "      <th>v3</th>\n",
              "    </tr>\n",
              "  </thead>\n",
              "  <tbody>\n",
              "    <tr>\n",
              "      <th>0</th>\n",
              "      <td>ham</td>\n",
              "      <td>Go until jurong point, crazy.. Available only ...</td>\n",
              "      <td>0</td>\n",
              "    </tr>\n",
              "    <tr>\n",
              "      <th>1</th>\n",
              "      <td>ham</td>\n",
              "      <td>Ok lar... Joking wif u oni...</td>\n",
              "      <td>0</td>\n",
              "    </tr>\n",
              "    <tr>\n",
              "      <th>2</th>\n",
              "      <td>spam</td>\n",
              "      <td>Free entry in 2 a wkly comp to win FA Cup fina...</td>\n",
              "      <td>1</td>\n",
              "    </tr>\n",
              "    <tr>\n",
              "      <th>3</th>\n",
              "      <td>ham</td>\n",
              "      <td>U dun say so early hor... U c already then say...</td>\n",
              "      <td>0</td>\n",
              "    </tr>\n",
              "    <tr>\n",
              "      <th>4</th>\n",
              "      <td>ham</td>\n",
              "      <td>Nah I don't think he goes to usf, he lives aro...</td>\n",
              "      <td>0</td>\n",
              "    </tr>\n",
              "  </tbody>\n",
              "</table>\n",
              "</div>"
            ],
            "text/plain": [
              "     v1                                                 v2  v3\n",
              "0   ham  Go until jurong point, crazy.. Available only ...   0\n",
              "1   ham                      Ok lar... Joking wif u oni...   0\n",
              "2  spam  Free entry in 2 a wkly comp to win FA Cup fina...   1\n",
              "3   ham  U dun say so early hor... U c already then say...   0\n",
              "4   ham  Nah I don't think he goes to usf, he lives aro...   0"
            ]
          },
          "metadata": {
            "tags": []
          },
          "execution_count": 3
        }
      ]
    },
    {
      "cell_type": "code",
      "metadata": {
        "id": "CsIwnbrXewKO",
        "colab_type": "code",
        "colab": {
          "base_uri": "https://localhost:8080/",
          "height": 33
        },
        "outputId": "afdebbd9-1631-4766-fe25-e4a51f344bc0"
      },
      "source": [
        "df.shape"
      ],
      "execution_count": null,
      "outputs": [
        {
          "output_type": "execute_result",
          "data": {
            "text/plain": [
              "(5572, 3)"
            ]
          },
          "metadata": {
            "tags": []
          },
          "execution_count": 4
        }
      ]
    },
    {
      "cell_type": "code",
      "metadata": {
        "id": "uUKTOKsdW8Uj",
        "colab_type": "code",
        "colab": {}
      },
      "source": [
        "#split dataset\n",
        "from sklearn.model_selection import train_test_split\n",
        "kalimat = df['v2'].values\n",
        "y = df['v3'].values\n",
        "kalimat_latih, kalimat_test, y_latih, y_test = train_test_split(kalimat, y, test_size=0.2)"
      ],
      "execution_count": null,
      "outputs": []
    },
    {
      "cell_type": "code",
      "metadata": {
        "id": "QY1FcNFnZNFX",
        "colab_type": "code",
        "colab": {}
      },
      "source": [
        "#tokenisasi\n",
        "from tensorflow.keras.preprocessing.text import Tokenizer\n",
        "from tensorflow.keras.preprocessing.sequence import pad_sequences\n",
        " \n",
        "tokenizer = Tokenizer(num_words=5000, oov_token='x')\n",
        "tokenizer.fit_on_texts(kalimat_latih) \n",
        "tokenizer.fit_on_texts(kalimat_test)\n",
        " \n",
        "sekuens_latih = tokenizer.texts_to_sequences(kalimat_latih)\n",
        "sekuens_test = tokenizer.texts_to_sequences(kalimat_test)\n",
        " \n",
        "padded_latih = pad_sequences(sekuens_latih) \n",
        "padded_test = pad_sequences(sekuens_test)"
      ],
      "execution_count": null,
      "outputs": []
    },
    {
      "cell_type": "code",
      "metadata": {
        "id": "487G4CQiZQ4K",
        "colab_type": "code",
        "colab": {}
      },
      "source": [
        "#arsitektur NN\n",
        "import tensorflow as tf\n",
        "model = tf.keras.Sequential([\n",
        "    tf.keras.layers.Embedding(5000, 16),\n",
        "    tf.keras.layers.LSTM(64),\n",
        "    tf.keras.layers.Dense(128, activation='relu'),\n",
        "    tf.keras.layers.Dense(1, activation='sigmoid')\n",
        "])\n",
        "model.compile(loss='binary_crossentropy',optimizer='adam',metrics=['accuracy'])"
      ],
      "execution_count": null,
      "outputs": []
    },
    {
      "cell_type": "code",
      "metadata": {
        "id": "yI0ToZapabRi",
        "colab_type": "code",
        "colab": {
          "base_uri": "https://localhost:8080/",
          "height": 1000
        },
        "outputId": "5d8b1f4f-d54e-4e1f-b173-328842cfaa7b"
      },
      "source": [
        "#running model\n",
        "num_epochs = 30\n",
        "history = model.fit(padded_latih, y_latih, epochs=num_epochs, \n",
        "                    validation_data=(padded_test, y_test), verbose=2)"
      ],
      "execution_count": null,
      "outputs": [
        {
          "output_type": "stream",
          "text": [
            "Epoch 1/30\n",
            "140/140 - 14s - loss: 0.2246 - accuracy: 0.9255 - val_loss: 0.0427 - val_accuracy: 0.9874\n",
            "Epoch 2/30\n",
            "140/140 - 15s - loss: 0.0349 - accuracy: 0.9904 - val_loss: 0.0511 - val_accuracy: 0.9830\n",
            "Epoch 3/30\n",
            "140/140 - 15s - loss: 0.0156 - accuracy: 0.9957 - val_loss: 0.0296 - val_accuracy: 0.9910\n",
            "Epoch 4/30\n",
            "140/140 - 15s - loss: 0.0074 - accuracy: 0.9980 - val_loss: 0.0272 - val_accuracy: 0.9910\n",
            "Epoch 5/30\n",
            "140/140 - 15s - loss: 0.0036 - accuracy: 0.9991 - val_loss: 0.0321 - val_accuracy: 0.9910\n",
            "Epoch 6/30\n",
            "140/140 - 15s - loss: 0.0023 - accuracy: 0.9993 - val_loss: 0.0308 - val_accuracy: 0.9910\n",
            "Epoch 7/30\n",
            "140/140 - 15s - loss: 0.0016 - accuracy: 0.9998 - val_loss: 0.0339 - val_accuracy: 0.9910\n",
            "Epoch 8/30\n",
            "140/140 - 15s - loss: 0.0014 - accuracy: 0.9998 - val_loss: 0.0567 - val_accuracy: 0.9821\n",
            "Epoch 9/30\n",
            "140/140 - 15s - loss: 9.3416e-04 - accuracy: 0.9998 - val_loss: 0.0512 - val_accuracy: 0.9892\n",
            "Epoch 10/30\n",
            "140/140 - 15s - loss: 4.6369e-04 - accuracy: 0.9998 - val_loss: 0.0773 - val_accuracy: 0.9758\n",
            "Epoch 11/30\n",
            "140/140 - 15s - loss: 0.0277 - accuracy: 0.9895 - val_loss: 0.0493 - val_accuracy: 0.9874\n",
            "Epoch 12/30\n",
            "140/140 - 15s - loss: 0.0027 - accuracy: 0.9993 - val_loss: 0.0582 - val_accuracy: 0.9883\n",
            "Epoch 13/30\n",
            "140/140 - 15s - loss: 0.0016 - accuracy: 0.9998 - val_loss: 0.0569 - val_accuracy: 0.9883\n",
            "Epoch 14/30\n",
            "140/140 - 15s - loss: 0.0011 - accuracy: 0.9998 - val_loss: 0.0581 - val_accuracy: 0.9892\n",
            "Epoch 15/30\n",
            "140/140 - 15s - loss: 3.8147e-04 - accuracy: 1.0000 - val_loss: 0.0642 - val_accuracy: 0.9892\n",
            "Epoch 16/30\n",
            "140/140 - 16s - loss: 2.7632e-04 - accuracy: 1.0000 - val_loss: 0.0644 - val_accuracy: 0.9892\n",
            "Epoch 17/30\n",
            "140/140 - 15s - loss: 8.6332e-05 - accuracy: 1.0000 - val_loss: 0.0682 - val_accuracy: 0.9892\n",
            "Epoch 18/30\n",
            "140/140 - 15s - loss: 1.0322e-04 - accuracy: 1.0000 - val_loss: 0.0671 - val_accuracy: 0.9883\n",
            "Epoch 19/30\n",
            "140/140 - 15s - loss: 7.0523e-05 - accuracy: 1.0000 - val_loss: 0.0704 - val_accuracy: 0.9901\n",
            "Epoch 20/30\n",
            "140/140 - 15s - loss: 3.6140e-05 - accuracy: 1.0000 - val_loss: 0.0722 - val_accuracy: 0.9892\n",
            "Epoch 21/30\n",
            "140/140 - 15s - loss: 2.9796e-05 - accuracy: 1.0000 - val_loss: 0.0735 - val_accuracy: 0.9892\n",
            "Epoch 22/30\n",
            "140/140 - 15s - loss: 2.5792e-05 - accuracy: 1.0000 - val_loss: 0.0736 - val_accuracy: 0.9892\n",
            "Epoch 23/30\n",
            "140/140 - 15s - loss: 2.1382e-05 - accuracy: 1.0000 - val_loss: 0.0747 - val_accuracy: 0.9892\n",
            "Epoch 24/30\n",
            "140/140 - 15s - loss: 1.8218e-05 - accuracy: 1.0000 - val_loss: 0.0756 - val_accuracy: 0.9892\n",
            "Epoch 25/30\n",
            "140/140 - 15s - loss: 1.5433e-05 - accuracy: 1.0000 - val_loss: 0.0767 - val_accuracy: 0.9892\n",
            "Epoch 26/30\n",
            "140/140 - 15s - loss: 1.3593e-05 - accuracy: 1.0000 - val_loss: 0.0773 - val_accuracy: 0.9892\n",
            "Epoch 27/30\n",
            "140/140 - 15s - loss: 1.1620e-05 - accuracy: 1.0000 - val_loss: 0.0784 - val_accuracy: 0.9892\n",
            "Epoch 28/30\n",
            "140/140 - 15s - loss: 1.0390e-05 - accuracy: 1.0000 - val_loss: 0.0790 - val_accuracy: 0.9892\n",
            "Epoch 29/30\n",
            "140/140 - 15s - loss: 9.1062e-06 - accuracy: 1.0000 - val_loss: 0.0797 - val_accuracy: 0.9892\n",
            "Epoch 30/30\n",
            "140/140 - 15s - loss: 8.0913e-06 - accuracy: 1.0000 - val_loss: 0.0804 - val_accuracy: 0.9892\n"
          ],
          "name": "stdout"
        }
      ]
    },
    {
      "cell_type": "code",
      "metadata": {
        "id": "33aaLYf3bCgA",
        "colab_type": "code",
        "colab": {
          "base_uri": "https://localhost:8080/",
          "height": 294
        },
        "outputId": "4200a5a0-43f8-4a34-f2b9-8b28a265f073"
      },
      "source": [
        "#plot akurasi\n",
        "import matplotlib.pyplot as plt\n",
        "plt.plot(history.history['accuracy'])\n",
        "plt.plot(history.history['val_accuracy'])\n",
        "plt.title('model accuracy')\n",
        "plt.ylabel('accuracy')\n",
        "plt.xlabel('epoch')\n",
        "plt.legend(['train', 'val'], loc='lower right')\n",
        "plt.show()"
      ],
      "execution_count": null,
      "outputs": [
        {
          "output_type": "display_data",
          "data": {
            "image/png": "[encoded data removed]",
            "text/plain": [
              "<Figure size 432x288 with 1 Axes>"
            ]
          },
          "metadata": {
            "tags": [],
            "needs_background": "light"
          }
        }
      ]
    },
    {
      "cell_type": "code",
      "metadata": {
        "id": "4KN3TTkAebE9",
        "colab_type": "code",
        "colab": {
          "base_uri": "https://localhost:8080/",
          "height": 294
        },
        "outputId": "30c59e89-d951-4c75-c807-75751f276a99"
      },
      "source": [
        "#plot loss\n",
        "plt.plot(history.history['loss'])\n",
        "plt.plot(history.history['val_loss'])\n",
        "plt.title('model loss')\n",
        "plt.ylabel('loss')\n",
        "plt.xlabel('epoch')\n",
        "plt.legend(['train', 'val'], loc='upper left')\n",
        "plt.show()"
      ],
      "execution_count": null,
      "outputs": [
        {
          "output_type": "display_data",
          "data": {
            "image/png": "[encoded data removed]",
            "text/plain": [
              "<Figure size 432x288 with 1 Axes>"
            ]
          },
          "metadata": {
            "tags": [],
            "needs_background": "light"
          }
        }
      ]
    }
  ]
}